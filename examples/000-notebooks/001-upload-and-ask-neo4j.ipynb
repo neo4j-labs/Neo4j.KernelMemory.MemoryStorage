{
 "cells": [
  {
   "cell_type": "markdown",
   "metadata": {},
   "source": [
    "# Quick intro to Kernel Memory: install, upload a doc, ask a question\n",
    "\n",
    "This notebook shows the basic usage of Kernel Memory, via the serverless client.\n",
    "\n",
    "First of all, install the Kernel Memory dependency."
   ]
  },
  {
   "cell_type": "code",
   "execution_count": null,
   "metadata": {
    "dotnet_interactive": {
     "language": "csharp"
    },
    "polyglot_notebook": {
     "kernelName": "csharp"
    }
   },
   "outputs": [],
   "source": [
    "#r \"nuget: Microsoft.KernelMemory.Core, 0.29.240219.2\"\n",
    "#r \"nuget: Neo4j.Driver, 5.18.1\"\n",
    "#r \"../../src/Neo4jMemoryStorage/bin/Debug/net8.0/Neo4j.KernelMemory.MemoryStorage.dll\"\n",
    "\n",
    "using Microsoft.KernelMemory;\n",
    "using Neo4j.KernelMemory.MemoryStorage;\n",
    "using Neo4j.Driver;"
   ]
  },
  {
   "cell_type": "markdown",
   "metadata": {},
   "source": [
    "For our demo, we use also the \"dotenv\" nuget to load our \n",
    "secret credentials from a `.env` file, expected in the \n",
    "parent `examples` directory.\n",
    "\n",
    "\n",
    "Make sure you create your `.env` file, with this content:\n",
    "\n",
    "> ```\n",
    "> OPENAI_API_KEY=<your OpenAI API key>\n",
    "> NEO4J_URI=neo4j://<your Neo4j URI>\n",
    "> NEO4J_USERNAME=<your Neo4j user>\n",
    "> NEO4J_PASSWORD=<your Neo4j password>\n",
    "> ```"
   ]
  },
  {
   "cell_type": "code",
   "execution_count": null,
   "metadata": {
    "dotnet_interactive": {
     "language": "csharp"
    },
    "polyglot_notebook": {
     "kernelName": "csharp"
    }
   },
   "outputs": [],
   "source": [
    "#r \"nuget: dotenv.net, 3.1.3\"\n",
    "using dotenv.net;\n",
    "\n",
    "var dotEnvOptions = new DotEnvOptions(\n",
    "        envFilePaths: new[] {\"../.env\"}\n",
    "    );\n",
    "\n",
    "DotEnv.Load(options: dotEnvOptions);\n",
    "var env = DotEnv.Read(dotEnvOptions);\n",
    "\n",
    "var neo4jConfig = new Neo4jConfig\n",
    "{\n",
    "    Uri = env[\"NEO4J_URI\"],\n",
    "    Username = env[\"NEO4J_USERNAME\"],\n",
    "    Password = env[\"NEO4J_PASSWORD\"]\n",
    "};\n",
    "\n",
    "Console.WriteLine($\"Neo4j URI: {neo4jConfig.Uri}\");"
   ]
  },
  {
   "cell_type": "markdown",
   "metadata": {},
   "source": [
    "Now let's create an instance of Kernel Memory client using the `KernelMemoryBuilder` to configure our solution. \n",
    "\n",
    "In this demo we use OpenAI to calculate embeddings and generate text, and the default storage settings, with content and embeddings kept in a volatile memory automatically deleted after the execution."
   ]
  },
  {
   "cell_type": "markdown",
   "metadata": {},
   "source": []
  },
  {
   "cell_type": "code",
   "execution_count": null,
   "metadata": {
    "dotnet_interactive": {
     "language": "csharp"
    },
    "polyglot_notebook": {
     "kernelName": "csharp"
    }
   },
   "outputs": [],
   "source": [
    "var kernelMemory = new KernelMemoryBuilder()\n",
    "    .WithOpenAIDefaults(env[\"OPENAI_API_KEY\"])\n",
    "    .WithNeo4j(neo4jConfig)\n",
    "    .Build<MemoryServerless>();"
   ]
  },
  {
   "cell_type": "markdown",
   "metadata": {},
   "source": [
    "At this point we have the memory client ready, we can import data and ask questions!\n",
    "\n",
    "Let's import a PDF file with some details about Kernel Memory:"
   ]
  },
  {
   "cell_type": "code",
   "execution_count": null,
   "metadata": {
    "dotnet_interactive": {
     "language": "csharp"
    },
    "polyglot_notebook": {
     "kernelName": "csharp"
    }
   },
   "outputs": [],
   "source": [
    "await kernelMemory.ImportDocumentAsync(\"sample-KM-Readme.pdf\", documentId: \"doc001\");"
   ]
  },
  {
   "cell_type": "code",
   "execution_count": null,
   "metadata": {
    "dotnet_interactive": {
     "language": "csharp"
    },
    "polyglot_notebook": {
     "kernelName": "csharp"
    }
   },
   "outputs": [],
   "source": [
    "await kernelMemory.ImportDocumentAsync(\"../data/deer-horatio.md\", documentId: \"doc002\");"
   ]
  },
  {
   "cell_type": "markdown",
   "metadata": {},
   "source": [
    "Now, let's ask a question about Kernel Memory:"
   ]
  },
  {
   "cell_type": "code",
   "execution_count": null,
   "metadata": {
    "dotnet_interactive": {
     "language": "csharp"
    },
    "polyglot_notebook": {
     "kernelName": "csharp"
    }
   },
   "outputs": [],
   "source": [
    "var question = \"What's Kernel Memory?\";\n",
    "\n",
    "var answer = await kernelMemory.AskAsync(question);\n",
    "\n",
    "Console.WriteLine($\"Question: {question}\\n\\nAnswer: {answer.Result}\");"
   ]
  },
  {
   "cell_type": "markdown",
   "metadata": {},
   "source": [
    "And here show the sources used to generate the answer above, what we call \"citations\":"
   ]
  },
  {
   "cell_type": "code",
   "execution_count": null,
   "metadata": {
    "dotnet_interactive": {
     "language": "csharp"
    },
    "polyglot_notebook": {
     "kernelName": "csharp"
    }
   },
   "outputs": [],
   "source": [
    "Console.WriteLine(\"Sources:\\n\");\n",
    "\n",
    "foreach (var x in answer.RelevantSources)\n",
    "{\n",
    "    Console.WriteLine($\"  - {x.SourceName}  - {x.Link} [{x.Partitions.First().LastUpdate:D}]\");\n",
    "}"
   ]
  },
  {
   "cell_type": "code",
   "execution_count": null,
   "metadata": {
    "dotnet_interactive": {
     "language": "csharp"
    },
    "polyglot_notebook": {
     "kernelName": "csharp"
    }
   },
   "outputs": [],
   "source": [
    "var question = \"Who are Deer Horatio and his friend Liv Fawn?\";\n",
    "\n",
    "var answer = await kernelMemory.AskAsync(question);\n",
    "\n",
    "Console.WriteLine($\"Question: {question}\\n\\nAnswer: {answer.Result}\");"
   ]
  },
  {
   "cell_type": "code",
   "execution_count": null,
   "metadata": {
    "dotnet_interactive": {
     "language": "csharp"
    },
    "polyglot_notebook": {
     "kernelName": "csharp"
    }
   },
   "outputs": [],
   "source": []
  }
 ],
 "metadata": {
  "kernelspec": {
   "display_name": ".NET (C#)",
   "language": "C#",
   "name": ".net-csharp"
  },
  "language_info": {
   "name": "polyglot-notebook"
  },
  "polyglot_notebook": {
   "kernelInfo": {
    "defaultKernelName": "csharp",
    "items": [
     {
      "aliases": [],
      "languageName": "csharp",
      "name": "csharp"
     }
    ]
   }
  }
 },
 "nbformat": 4,
 "nbformat_minor": 2
}
