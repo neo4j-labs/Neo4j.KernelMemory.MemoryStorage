{
 "cells": [
  {
   "cell_type": "markdown",
   "metadata": {},
   "source": [
    "# Neo4j Utilities"
   ]
  },
  {
   "cell_type": "markdown",
   "metadata": {},
   "source": [
    "## Reset Neo4j Database\n",
    "\n",
    "Delete all nodes and relationships from the database, and remove indexes and constraints."
   ]
  },
  {
   "cell_type": "code",
   "execution_count": null,
   "metadata": {},
   "outputs": [],
   "source": [
    "import os\n",
    "from dotenv import load_dotenv\n",
    "\n",
    "load_dotenv()\n",
    "\n",
    "NEO4J_URI = os.getenv('NEO4J_URI')\n",
    "NEO4J_USERNAME = os.getenv('NEO4J_USERNAME')\n",
    "NEO4J_PASSWORD = os.getenv('NEO4J_PASSWORD')\n",
    "NEO4J_DATABASE = os.getenv('NEO4J_DATABASE') or 'neo4j'\n",
    "OPENAI_API_KEY = os.getenv('OPENAI_API_KEY')\n",
    "\n",
    "from graphdatascience import GraphDataScience\n",
    "\n",
    "# Use Neo4j URI and credentials according to your setup\n",
    "# NEO4J_URI could look similar to \"bolt://my-server.neo4j.io:7687\"\n",
    "gds = GraphDataScience(NEO4J_URI, auth=(NEO4J_USERNAME, NEO4J_PASSWORD))\n",
    "\n",
    "# Check the installed GDS version on the server\n",
    "print(f\"GDS version: {gds.version()}\")\n",
    "assert gds.version()"
   ]
  },
  {
   "cell_type": "markdown",
   "metadata": {},
   "source": [
    "### Reset Neo4j Database\n",
    "\n"
   ]
  },
  {
   "cell_type": "code",
   "execution_count": null,
   "metadata": {
    "dotnet_interactive": {
     "language": "csharp"
    },
    "polyglot_notebook": {
     "kernelName": "csharp"
    }
   },
   "outputs": [],
   "source": [
    "for _, constraint in gds.run_cypher('SHOW CONSTRAINTS yield name').iterrows():\n",
    "    print(f\"Removing constraint {constraint['name']}:\")\n",
    "    gds.run_cypher(f\"DROP CONSTRAINT `{constraint['name']}`\")\n",
    "\n",
    "for _, index in gds.run_cypher('SHOW INDEXES yield name').iterrows():\n",
    "    print(f\"Removing index {index['name']}:\")\n",
    "    gds.run_cypher(f\"DROP INDEX `{index['name']}`\")\n",
    "\n",
    "print(\"All constraints and indexes removed.\")\n",
    "\n",
    "# Delete all nodes and relationships\n",
    "gds.run_cypher(\"MATCH (n) DETACH DELETE n\")\n",
    "\n",
    "print(\"All nodes and relationships deleted.\")"
   ]
  },
  {
   "cell_type": "markdown",
   "metadata": {},
   "source": [
    "## Neo4j Vector Search Utilities"
   ]
  },
  {
   "cell_type": "code",
   "execution_count": null,
   "metadata": {},
   "outputs": [],
   "source": [
    "gds.run_cypher(\"SHOW VECTOR INDEXES\")"
   ]
  },
  {
   "cell_type": "code",
   "execution_count": null,
   "metadata": {},
   "outputs": [],
   "source": [
    "# Show graph schema\n",
    "gds.run_cypher(\"CALL apoc.meta.schema()\")"
   ]
  },
  {
   "cell_type": "code",
   "execution_count": null,
   "metadata": {},
   "outputs": [],
   "source": [
    "def neo4j_vector_search(question, index_name=None, top_k=1, provider=\"OpenAI\"):\n",
    "  \"\"\"Search for similar nodes using any available Neo4j vector index\"\"\"\n",
    "\n",
    "  vectorIndexes = gds.run_cypher('SHOW INDEXES yield name')['name'].tolist()\n",
    "\n",
    "  if index_name is not None:\n",
    "    vectorIndexes = list(filter(lambda x: x == index_name, vectorIndexes))\n",
    "\n",
    "  if len(vectorIndexes) == 0:\n",
    "    if index_name is not None:\n",
    "      raise ValueError(f\"No vector index found with name '{index_name}'\")\n",
    "    raise ValueError(f\"No vector indexes found in the database\")\n",
    "\n",
    "  # Prepare a vector embedding query statement depending on provider\n",
    "  embedding_cypher = \"WITH [] as questionEmbedding\"\n",
    "  match provider:\n",
    "    case \"OpenAI\":\n",
    "      embedding_cypher = f\"\"\"\n",
    "          WITH genai.vector.encode($question, \"OpenAI\", {{token: $openAiApiKey}}) AS questionEmbedding\n",
    "      \"\"\"\n",
    "\n",
    "  for indexName in vectorIndexes:\n",
    "    print(f\"Vector search of '{indexName}' ...\")\n",
    "    response = gds.run_cypher(\n",
    "      f\"\"\"\n",
    "      {embedding_cypher}\n",
    "      CALL db.index.vector.queryNodes('{indexName}', {top_k}, questionEmbedding) \n",
    "          YIELD node, score\n",
    "      RETURN score, node.text AS text\n",
    "      \"\"\",\n",
    "      params={\n",
    "        'question': question,\n",
    "        'openAiApiKey': OPENAI_API_KEY\n",
    "      }\n",
    "    )\n",
    "    print(response)\n"
   ]
  },
  {
   "cell_type": "code",
   "execution_count": null,
   "metadata": {},
   "outputs": [],
   "source": [
    "neo4j_vector_search(\"Tell me about Horatio.\")"
   ]
  },
  {
   "cell_type": "code",
   "execution_count": null,
   "metadata": {},
   "outputs": [],
   "source": []
  }
 ],
 "metadata": {
  "kernelspec": {
   "display_name": "Python 3",
   "language": "python",
   "name": "python3"
  },
  "language_info": {
   "codemirror_mode": {
    "name": "ipython",
    "version": 3
   },
   "file_extension": ".py",
   "mimetype": "text/x-python",
   "name": "python",
   "nbconvert_exporter": "python",
   "pygments_lexer": "ipython3",
   "version": "3.11.6"
  },
  "polyglot_notebook": {
   "kernelInfo": {
    "defaultKernelName": "csharp",
    "items": [
     {
      "aliases": [],
      "languageName": "csharp",
      "name": "csharp"
     }
    ]
   }
  }
 },
 "nbformat": 4,
 "nbformat_minor": 2
}
