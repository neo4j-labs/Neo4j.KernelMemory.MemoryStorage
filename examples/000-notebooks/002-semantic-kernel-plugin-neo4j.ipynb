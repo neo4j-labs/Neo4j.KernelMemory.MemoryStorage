{
 "cells": [
  {
   "cell_type": "markdown",
   "metadata": {},
   "source": [
    "# Kernel Memory plugin for Semantic Kernel\n",
    "\n",
    "This notebook shows the basic usage of Kernel Memory as a Semantic Kernel Plugin.\n",
    "\n",
    "First of all, install the Kernel Memory SK Plugin and SK dependencies."
   ]
  },
  {
   "cell_type": "code",
   "execution_count": null,
   "metadata": {
    "dotnet_interactive": {
     "language": "csharp"
    },
    "polyglot_notebook": {
     "kernelName": "csharp"
    }
   },
   "outputs": [],
   "source": [
    "#r \"nuget: Microsoft.KernelMemory.Core, 0.29.240219.2\"\n",
    "#r \"nuget: Microsoft.SemanticKernel, 1.5.0\"\n",
    "#r \"nuget: Microsoft.KernelMemory.SemanticKernelPlugin, 0.29.240219.2\"\n",
    "#r \"nuget: Neo4j.Driver, 5.18.1\"\n",
    "#r \"../../src/Neo4jMemoryStorage/bin/Debug/net8.0/Neo4j.KernelMemory.MemoryStorage.dll\"\n",
    "\n",
    "using Microsoft.SemanticKernel;\n",
    "using Microsoft.KernelMemory;\n",
    "using Neo4j.KernelMemory.MemoryStorage;\n",
    "using Neo4j.Driver;\n"
   ]
  },
  {
   "cell_type": "markdown",
   "metadata": {},
   "source": [
    "## Configuration\n",
    "\n",
    "For our demo, we use also the \"dotenv\" nuget, to load our secret credentials from a `.env` file.\n",
    "Make sure you create your `.env` file, with your OpenAI API Key, and your Memory Service API Key (if you set one).\n",
    "\n",
    "> ```\n",
    "> OPENAI_API_KEY=<your OpenAI API key>\n",
    "> MEMORY_API_KEY=<your KM web service API key>\n",
    "> ```"
   ]
  },
  {
   "cell_type": "code",
   "execution_count": null,
   "metadata": {
    "dotnet_interactive": {
     "language": "csharp"
    },
    "polyglot_notebook": {
     "kernelName": "csharp"
    }
   },
   "outputs": [],
   "source": [
    "#r \"nuget: dotenv.net, 3.1.3\"\n",
    "\n",
    "dotenv.net.DotEnv.Load();\n",
    "var env = dotenv.net.DotEnv.Read();\n",
    "\n",
    "var neo4jConfig = new Neo4jConfig\n",
    "{\n",
    "    Uri = env[\"NEO4J_URI\"],\n",
    "    Username = env[\"NEO4J_USERNAME\"],\n",
    "    Password = env[\"NEO4J_PASSWORD\"]\n",
    "};\n",
    "\n",
    "Console.WriteLine($\"Neo4j URI: {neo4jConfig.Uri}\");"
   ]
  },
  {
   "cell_type": "markdown",
   "metadata": {},
   "source": [
    "Let's setup Semantic Kernel as usual:"
   ]
  },
  {
   "cell_type": "code",
   "execution_count": null,
   "metadata": {
    "dotnet_interactive": {
     "language": "csharp"
    },
    "polyglot_notebook": {
     "kernelName": "csharp"
    }
   },
   "outputs": [],
   "source": [
    "var semanticKernel = Kernel.CreateBuilder()\n",
    "    .AddOpenAIChatCompletion(\n",
    "        modelId: \"gpt-3.5-turbo\",\n",
    "        apiKey: env[\"OPENAI_API_KEY\"])\n",
    "    .Build();\n",
    "\n",
    "Console.WriteLine(\"Semantic Kernel ready.\");"
   ]
  },
  {
   "cell_type": "code",
   "execution_count": null,
   "metadata": {
    "dotnet_interactive": {
     "language": "csharp"
    },
    "polyglot_notebook": {
     "kernelName": "csharp"
    }
   },
   "outputs": [],
   "source": [
    "var kernelMemory = new KernelMemoryBuilder()\n",
    "    .WithOpenAIDefaults(env[\"OPENAI_API_KEY\"])\n",
    "    .WithNeo4j(neo4jConfig)\n",
    "    .Build<MemoryServerless>();"
   ]
  },
  {
   "cell_type": "markdown",
   "metadata": {},
   "source": [
    "## Import Memory Plugin into SK\n",
    "\n",
    "Wrap the KernelMemory in a MemoryPlugin, and add it to the SK instance."
   ]
  },
  {
   "cell_type": "code",
   "execution_count": null,
   "metadata": {
    "dotnet_interactive": {
     "language": "csharp"
    },
    "polyglot_notebook": {
     "kernelName": "csharp"
    }
   },
   "outputs": [],
   "source": [
    "\n",
    "// Name of the plugin. This is the name you'll use in skPrompt, e.g. {{memory.ask ...}}\n",
    "var pluginName = \"memory\";\n",
    "\n",
    "// Import the plugin into the kernel.\n",
    "// 'waitForIngestionToComplete' set to true forces memory write operations to wait for completion.\n",
    "var memoryPlugin = semanticKernel.ImportPluginFromObject(\n",
    "    new MemoryPlugin(kernelMemory, waitForIngestionToComplete: true),\n",
    "    pluginName);\n",
    "\n",
    "Console.WriteLine(\"Memory plugin imported.\");"
   ]
  },
  {
   "cell_type": "markdown",
   "metadata": {},
   "source": [
    "## Populate memory with sample information\n",
    "\n",
    "Let's store some data in memory:\n",
    "\n",
    "1. storing some text, e.g. Wikipedia's description of Orion\n",
    "2. and importing a PDF document, e.g. a news from NASA about Orion spacecraft\n",
    "\n",
    "To import data you can use either the web client connector or the plugin, here we use both just for demo purposes.\n",
    "\n",
    "When working with SK Planners and Semantic Functions (like the one below) you should always\n",
    "use KM Plugin. You can also use the web client connector to create new plugins and customize\n",
    "how you interact with your memories, e.g. selecting indexes, using filters, customizing chunking, etc."
   ]
  },
  {
   "cell_type": "code",
   "execution_count": null,
   "metadata": {
    "dotnet_interactive": {
     "language": "csharp"
    },
    "polyglot_notebook": {
     "kernelName": "csharp"
    }
   },
   "outputs": [],
   "source": [
    "\n",
    "// Save a string using kernel memory\n",
    "await kernelMemory.ImportTextAsync(\n",
    "    \"Orion is a prominent set of stars visible during winter in \" +\n",
    "    \"the northern celestial hemisphere. It is one of the 88 modern constellations; \" +\n",
    "    \"it was among the 48 constellations listed by the 2nd-century astronomer Ptolemy. \" +\n",
    "    \"It is named for a hunter in Greek mythology.\", \n",
    "    documentId: \"OrionDefinition\");\n",
    "\n",
    "// Save a PDF file using the plugin\n",
    "var context = new KernelArguments\n",
    "{\n",
    "    [MemoryPlugin.FilePathParam] = \"NASA-news.pdf\",\n",
    "    [MemoryPlugin.DocumentIdParam] = \"NASA001\"\n",
    "};\n",
    "await memoryPlugin[\"SaveFile\"].InvokeAsync(semanticKernel, context);\n",
    "\n",
    "// Save a string with unique, fictional information that is not publicly available\n",
    "await kernelMemory.ImportTextAsync(\n",
    "    \"Deer Horatio is a real person, though he is often confused with a character from Shakespeare's Hamlet. \" +\n",
    "    \"He lives near the pier in a hamlet called Shake. \" +\n",
    "    \"He is well aware that AI dreams of electric sheep.\", \n",
    "    documentId: \"DeerHoratioBio\");\n",
    "\n",
    "Console.WriteLine(\"Memory updated.\");"
   ]
  },
  {
   "cell_type": "markdown",
   "metadata": {},
   "source": [
    "## Use Memory in a semantic function\n",
    "\n",
    "Here we define a simple semantic function, using `{{memory.ask}}` to\n",
    "fetch information from memory."
   ]
  },
  {
   "cell_type": "code",
   "execution_count": null,
   "metadata": {
    "dotnet_interactive": {
     "language": "csharp"
    },
    "polyglot_notebook": {
     "kernelName": "csharp"
    }
   },
   "outputs": [],
   "source": [
    "var skPrompt = \"\"\"\n",
    "Question to Memory: {{$input}}\n",
    "\n",
    "Answer from Memory: {{memory.ask $input}}\n",
    "\n",
    "If the answer is empty say 'I don't know' otherwise reply with a preview of the answer,\n",
    "truncated to 15 words. Prefix with one emoji relevant to the content.\n",
    "\"\"\";\n",
    "\n",
    "var myFunction = semanticKernel.CreateFunctionFromPrompt(skPrompt);\n",
    "\n",
    "Console.WriteLine(\"Semantic Function ready.\");"
   ]
  },
  {
   "cell_type": "markdown",
   "metadata": {},
   "source": [
    "Let's now interact with our memories using `myFunction` function, asking questions, leveraging KM and LLMs to generate answers.\n",
    "\n",
    "Our function internally uses KM Plugin to retrieve an answer, and then custom some semantic logic to decide how to format the output."
   ]
  },
  {
   "cell_type": "code",
   "execution_count": null,
   "metadata": {
    "dotnet_interactive": {
     "language": "csharp"
    },
    "polyglot_notebook": {
     "kernelName": "csharp"
    }
   },
   "outputs": [],
   "source": [
    "var answer = await myFunction.InvokeAsync(semanticKernel,\n",
    "    \"any news from NASA about Orion?\");\n",
    "\n",
    "Console.WriteLine(answer);"
   ]
  },
  {
   "cell_type": "code",
   "execution_count": null,
   "metadata": {
    "dotnet_interactive": {
     "language": "csharp"
    },
    "polyglot_notebook": {
     "kernelName": "csharp"
    }
   },
   "outputs": [],
   "source": [
    "var answer = await myFunction.InvokeAsync(semanticKernel,\n",
    "    \"usage of the word 'Orion'\");\n",
    "\n",
    "Console.WriteLine(answer);"
   ]
  },
  {
   "cell_type": "code",
   "execution_count": null,
   "metadata": {
    "dotnet_interactive": {
     "language": "csharp"
    },
    "polyglot_notebook": {
     "kernelName": "csharp"
    }
   },
   "outputs": [],
   "source": [
    "var answer = await myFunction.InvokeAsync(semanticKernel,\n",
    "    \"Where does Horatio live?\");\n",
    "\n",
    "Console.WriteLine(answer);"
   ]
  },
  {
   "cell_type": "code",
   "execution_count": null,
   "metadata": {
    "dotnet_interactive": {
     "language": "csharp"
    },
    "polyglot_notebook": {
     "kernelName": "csharp"
    }
   },
   "outputs": [],
   "source": [
    "var answer = await myFunction.InvokeAsync(semanticKernel,\n",
    "    \"What is Horatio's full name?\");\n",
    "\n",
    "Console.WriteLine(answer);"
   ]
  },
  {
   "cell_type": "code",
   "execution_count": null,
   "metadata": {
    "dotnet_interactive": {
     "language": "csharp"
    },
    "polyglot_notebook": {
     "kernelName": "csharp"
    }
   },
   "outputs": [],
   "source": [
    "var answer = await myFunction.InvokeAsync(semanticKernel,\n",
    "    \"Tell me about Horatio.\");\n",
    "\n",
    "Console.WriteLine(answer);"
   ]
  },
  {
   "cell_type": "code",
   "execution_count": null,
   "metadata": {
    "dotnet_interactive": {
     "language": "csharp"
    },
    "polyglot_notebook": {
     "kernelName": "csharp"
    }
   },
   "outputs": [],
   "source": []
  }
 ],
 "metadata": {
  "kernelspec": {
   "display_name": ".NET (C#)",
   "language": "C#",
   "name": ".net-csharp"
  },
  "language_info": {
   "name": "polyglot-notebook"
  },
  "polyglot_notebook": {
   "kernelInfo": {
    "defaultKernelName": "csharp",
    "items": [
     {
      "aliases": [],
      "languageName": "csharp",
      "name": "csharp"
     }
    ]
   }
  }
 },
 "nbformat": 4,
 "nbformat_minor": 2
}
